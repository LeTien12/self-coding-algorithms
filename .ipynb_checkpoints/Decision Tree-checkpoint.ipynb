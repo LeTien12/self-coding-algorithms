{
 "cells": [
  {
   "cell_type": "markdown",
   "id": "656cc678",
   "metadata": {},
   "source": [
    "## info gain: IG = E(parent) - [weighted average] * E(children)\n",
    "## entropy : E = -sum(p(X) * log2(p(X)))\n",
    "    \n",
    "### p(X) = #x / n"
   ]
  },
  {
   "cell_type": "code",
   "execution_count": 141,
   "id": "2abe2efe",
   "metadata": {},
   "outputs": [],
   "source": [
    "class Node:\n",
    "    def __init__(self , feature = None, threshold = None , left = None, right = None , value = None):\n",
    "        self.feature = feature\n",
    "        self.threshold = threshold\n",
    "        self.left = left\n",
    "        self.right = right\n",
    "        self.value = value\n",
    "    def is_leaf_node(self):\n",
    "        return self.value is not None\n",
    "    \n",
    "class DecisionTree:\n",
    "    def __init__(self, min_sample = 2, max_depth = 100, n_feature = None):\n",
    "        self.min_sample = min_sample\n",
    "        self.max_depth = max_depth\n",
    "        self.n_feature = n_feature\n",
    "        self.root = None\n",
    "        "
   ]
  },
  {
   "cell_type": "code",
   "execution_count": null,
   "id": "0b608038",
   "metadata": {},
   "outputs": [],
   "source": []
  }
 ],
 "metadata": {
  "kernelspec": {
   "display_name": "Python 3 (ipykernel)",
   "language": "python",
   "name": "python3"
  },
  "language_info": {
   "codemirror_mode": {
    "name": "ipython",
    "version": 3
   },
   "file_extension": ".py",
   "mimetype": "text/x-python",
   "name": "python",
   "nbconvert_exporter": "python",
   "pygments_lexer": "ipython3",
   "version": "3.11.7"
  }
 },
 "nbformat": 4,
 "nbformat_minor": 5
}
