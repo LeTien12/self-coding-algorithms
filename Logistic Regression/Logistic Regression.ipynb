{
 "cells": [
  {
   "cell_type": "markdown",
   "id": "03d2b8e4",
   "metadata": {},
   "source": [
    "sigmod = 1 / (1 + e ^ -x)\n",
    "\n",
    "# Steps\n",
    "\n",
    "### Training\n",
    "\n",
    "initialize weight as zero\n",
    "initialize bias as zero\n",
    "\n",
    "### Given a data point:\n",
    "\n",
    "predict = 1 / (1 + e ^ -wx+b)\n",
    "\n",
    "mse = sum((y - predict)^2) / n\n",
    "\n",
    "use gradient:\n",
    "\n",
    "    dw = sum(xi(predict - yi)) / n\n",
    "    db = sum((predict - yi)) / n\n",
    "\n",
    "    w = w - a . dw\n",
    "    b = b - a . db\n",
    "    \n",
    "    \n",
    "\n",
    "repeat n times\n"
   ]
  },
  {
   "cell_type": "code",
   "execution_count": 1,
   "id": "c6d505fd",
   "metadata": {},
   "outputs": [],
   "source": [
    "import numpy as np"
   ]
  },
  {
   "cell_type": "code",
   "execution_count": 138,
   "id": "586b0bdf",
   "metadata": {},
   "outputs": [],
   "source": [
    "def sigmoid(x):\n",
    "    return 1/(1+np.exp(-x))\n",
    "class LogisticRegression:\n",
    "    def __init__(self,learn_rate = 0.001 , epochs = 1000):\n",
    "        self.learn_rate = learn_rate\n",
    "        self.epochs = epochs\n",
    "        self.w = None\n",
    "        self.b = None\n",
    "        \n",
    "    def predict(self,x):\n",
    "        linear_pred = np.dot(x, self.w) + self.b\n",
    "        y_pred = sigmoid(linear_pred)\n",
    "        class_pred = [0 if y<=0.5 else 1 for y in y_pred]\n",
    "        return class_pred\n",
    "    \n",
    "    def gradient(self , x, y ,y_pred , n):\n",
    "        \n",
    "        dw = np.dot(x.T, (y_pred - y)) / n\n",
    "        db = np.sum(y_pred - y) / n\n",
    "        self.w = self.w - self.learn_rate * dw\n",
    "        self.b = self.b - self.learn_rate * db\n",
    "    def fit(self,x, y):\n",
    "        n_sample , n_feature = x.shape\n",
    "        self.w = np.zeros(n_feature)\n",
    "        self.b = 0\n",
    "        for _ in range(self.epochs):\n",
    "            linear_pred = np.dot(x, self.w) + self.b\n",
    "            y_predicts = sigmoid(linear_pred)\n",
    "            self.gradient(x,y,y_predicts,n_sample)"
   ]
  },
  {
   "cell_type": "code",
   "execution_count": 139,
   "id": "92f0629f",
   "metadata": {},
   "outputs": [],
   "source": [
    "from sklearn.model_selection import train_test_split\n",
    "from sklearn import datasets\n",
    "import matplotlib.pyplot as plt"
   ]
  },
  {
   "cell_type": "code",
   "execution_count": 140,
   "id": "ac4ae7b3",
   "metadata": {},
   "outputs": [],
   "source": [
    "bc = datasets.load_breast_cancer()\n",
    "X, y = bc.data, bc.target\n",
    "X_train, X_test, y_train, y_test = train_test_split(X, y, test_size=0.2, random_state=1)"
   ]
  },
  {
   "cell_type": "code",
   "execution_count": 141,
   "id": "8b498e11",
   "metadata": {},
   "outputs": [
    {
     "name": "stderr",
     "output_type": "stream",
     "text": [
      "C:\\Users\\TienLe\\AppData\\Local\\Temp\\ipykernel_10476\\1372190789.py:2: RuntimeWarning: overflow encountered in exp\n",
      "  return 1/(1+np.exp(-x))\n"
     ]
    }
   ],
   "source": [
    "lr = LogisticRegression(epochs=10000)\n",
    "lr.fit(X_train,y_train)"
   ]
  },
  {
   "cell_type": "code",
   "execution_count": 142,
   "id": "d7790025",
   "metadata": {},
   "outputs": [
    {
     "name": "stderr",
     "output_type": "stream",
     "text": [
      "C:\\Users\\TienLe\\AppData\\Local\\Temp\\ipykernel_10476\\1372190789.py:2: RuntimeWarning: overflow encountered in exp\n",
      "  return 1/(1+np.exp(-x))\n"
     ]
    }
   ],
   "source": [
    "y_pred = lr.predict(X_test)"
   ]
  },
  {
   "cell_type": "code",
   "execution_count": 143,
   "id": "d4520ee4",
   "metadata": {},
   "outputs": [
    {
     "data": {
      "text/plain": [
       "0.9210526315789473"
      ]
     },
     "execution_count": 143,
     "metadata": {},
     "output_type": "execute_result"
    }
   ],
   "source": [
    "accuracy(y_pred , y_test)"
   ]
  },
  {
   "cell_type": "code",
   "execution_count": 144,
   "id": "d900ed7d",
   "metadata": {},
   "outputs": [],
   "source": [
    "def accuracy(y_pred, y):\n",
    "    return np.sum(y_pred == y) / len(y)"
   ]
  },
  {
   "cell_type": "code",
   "execution_count": 145,
   "id": "8a727d8b",
   "metadata": {},
   "outputs": [
    {
     "data": {
      "text/plain": [
       "(455, 30)"
      ]
     },
     "execution_count": 145,
     "metadata": {},
     "output_type": "execute_result"
    }
   ],
   "source": [
    "X_train.shape"
   ]
  },
  {
   "cell_type": "code",
   "execution_count": 146,
   "id": "61d258ab",
   "metadata": {},
   "outputs": [],
   "source": [
    "from sklearn.linear_model import LogisticRegression"
   ]
  },
  {
   "cell_type": "code",
   "execution_count": 150,
   "id": "41fe461e",
   "metadata": {},
   "outputs": [
    {
     "name": "stderr",
     "output_type": "stream",
     "text": [
      "D:\\ancoda\\envs\\ORC\\Lib\\site-packages\\sklearn\\linear_model\\_logistic.py:469: ConvergenceWarning: lbfgs failed to converge (status=1):\n",
      "STOP: TOTAL NO. of ITERATIONS REACHED LIMIT.\n",
      "\n",
      "Increase the number of iterations (max_iter) or scale the data as shown in:\n",
      "    https://scikit-learn.org/stable/modules/preprocessing.html\n",
      "Please also refer to the documentation for alternative solver options:\n",
      "    https://scikit-learn.org/stable/modules/linear_model.html#logistic-regression\n",
      "  n_iter_i = _check_optimize_result(\n"
     ]
    }
   ],
   "source": [
    "model = LogisticRegression()\n",
    "model.fit(X_train,y_train)\n",
    "predictions = model.predict(X_test)"
   ]
  },
  {
   "cell_type": "code",
   "execution_count": 151,
   "id": "2e51803b",
   "metadata": {},
   "outputs": [
    {
     "data": {
      "text/plain": [
       "0.9473684210526315"
      ]
     },
     "execution_count": 151,
     "metadata": {},
     "output_type": "execute_result"
    }
   ],
   "source": [
    "accuracy(predictions, y_test)"
   ]
  },
  {
   "cell_type": "code",
   "execution_count": null,
   "id": "a4472b21",
   "metadata": {},
   "outputs": [],
   "source": []
  }
 ],
 "metadata": {
  "kernelspec": {
   "display_name": "Python 3 (ipykernel)",
   "language": "python",
   "name": "python3"
  },
  "language_info": {
   "codemirror_mode": {
    "name": "ipython",
    "version": 3
   },
   "file_extension": ".py",
   "mimetype": "text/x-python",
   "name": "python",
   "nbconvert_exporter": "python",
   "pygments_lexer": "ipython3",
   "version": "3.11.7"
  }
 },
 "nbformat": 4,
 "nbformat_minor": 5
}
